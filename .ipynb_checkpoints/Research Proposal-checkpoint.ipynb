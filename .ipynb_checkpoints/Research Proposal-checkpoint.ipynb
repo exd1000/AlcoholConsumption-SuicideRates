{
 "cells": [
  {
   "cell_type": "markdown",
   "metadata": {
    "id": "u9edzaC_WM8M"
   },
   "source": [
    "Importing the needed libraries "
   ]
  },
  {
   "cell_type": "code",
   "execution_count": 3,
   "metadata": {
    "executionInfo": {
     "elapsed": 1334,
     "status": "ok",
     "timestamp": 1638665251366,
     "user": {
      "displayName": "Em D",
      "photoUrl": "https://lh3.googleusercontent.com/a/default-user=s64",
      "userId": "07127211814811907943"
     },
     "user_tz": 480
    },
    "id": "5b-M0J77PR-D"
   },
   "outputs": [
    {
     "ename": "ModuleNotFoundError",
     "evalue": "No module named 'matplotlib'",
     "output_type": "error",
     "traceback": [
      "\u001b[0;31m---------------------------------------------------------------------------\u001b[0m",
      "\u001b[0;31mModuleNotFoundError\u001b[0m                       Traceback (most recent call last)",
      "Input \u001b[0;32mIn [3]\u001b[0m, in \u001b[0;36m<cell line: 5>\u001b[0;34m()\u001b[0m\n\u001b[1;32m      3\u001b[0m \u001b[38;5;28;01mimport\u001b[39;00m \u001b[38;5;21;01mnumpy\u001b[39;00m \u001b[38;5;28;01mas\u001b[39;00m \u001b[38;5;21;01mnp\u001b[39;00m \n\u001b[1;32m      4\u001b[0m \u001b[38;5;28;01mfrom\u001b[39;00m \u001b[38;5;21;01mscipy\u001b[39;00m \u001b[38;5;28;01mimport\u001b[39;00m stats\n\u001b[0;32m----> 5\u001b[0m \u001b[38;5;28;01mimport\u001b[39;00m \u001b[38;5;21;01mmatplotlib\u001b[39;00m\u001b[38;5;21;01m.\u001b[39;00m\u001b[38;5;21;01mpyplot\u001b[39;00m \u001b[38;5;28;01mas\u001b[39;00m \u001b[38;5;21;01mplt\u001b[39;00m\n",
      "\u001b[0;31mModuleNotFoundError\u001b[0m: No module named 'matplotlib'"
     ]
    }
   ],
   "source": [
    "import math\n",
    "import pandas as pd \n",
    "import numpy as np \n",
    "from scipy import stats\n",
    "import matplotlib.pyplot as plt "
   ]
  },
  {
   "cell_type": "markdown",
   "metadata": {
    "id": "e03PvmnwWSae"
   },
   "source": [
    "Importing the dataframe and looking at the data"
   ]
  },
  {
   "cell_type": "code",
   "execution_count": 3,
   "metadata": {
    "executionInfo": {
     "elapsed": 37,
     "status": "ok",
     "timestamp": 1638665253240,
     "user": {
      "displayName": "Em D",
      "photoUrl": "https://lh3.googleusercontent.com/a/default-user=s64",
      "userId": "07127211814811907943"
     },
     "user_tz": 480
    },
    "id": "1fDJp1t2BCim"
   },
   "outputs": [],
   "source": [
    "df = pd.read_csv('/content/drive/MyDrive/Thinkful Data Science/Datasets/gapminder_alcohol.csv')"
   ]
  },
  {
   "cell_type": "code",
   "execution_count": 4,
   "metadata": {
    "colab": {
     "base_uri": "https://localhost:8080/",
     "height": 432
    },
    "executionInfo": {
     "elapsed": 43,
     "status": "ok",
     "timestamp": 1638665253248,
     "user": {
      "displayName": "Em D",
      "photoUrl": "https://lh3.googleusercontent.com/a/default-user=s64",
      "userId": "07127211814811907943"
     },
     "user_tz": 480
    },
    "id": "hBKXSLs5BUdq",
    "outputId": "e8eebaf2-5433-49d7-8634-6d07ac8954b3"
   },
   "outputs": [
    {
     "name": "stdout",
     "output_type": "stream",
     "text": [
      "<class 'pandas.core.frame.DataFrame'>\n",
      "RangeIndex: 213 entries, 0 to 212\n",
      "Data columns (total 6 columns):\n",
      " #   Column           Non-Null Count  Dtype  \n",
      "---  ------           --------------  -----  \n",
      " 0   country          213 non-null    object \n",
      " 1   alcconsumption   187 non-null    float64\n",
      " 2   incomeperperson  190 non-null    float64\n",
      " 3   suicideper100th  191 non-null    float64\n",
      " 4   employrate       178 non-null    float64\n",
      " 5   urbanrate        203 non-null    float64\n",
      "dtypes: float64(5), object(1)\n",
      "memory usage: 10.1+ KB\n"
     ]
    },
    {
     "data": {
      "text/html": [
       "<div>\n",
       "<style scoped>\n",
       "    .dataframe tbody tr th:only-of-type {\n",
       "        vertical-align: middle;\n",
       "    }\n",
       "\n",
       "    .dataframe tbody tr th {\n",
       "        vertical-align: top;\n",
       "    }\n",
       "\n",
       "    .dataframe thead th {\n",
       "        text-align: right;\n",
       "    }\n",
       "</style>\n",
       "<table border=\"1\" class=\"dataframe\">\n",
       "  <thead>\n",
       "    <tr style=\"text-align: right;\">\n",
       "      <th></th>\n",
       "      <th>country</th>\n",
       "      <th>alcconsumption</th>\n",
       "      <th>incomeperperson</th>\n",
       "      <th>suicideper100th</th>\n",
       "      <th>employrate</th>\n",
       "      <th>urbanrate</th>\n",
       "    </tr>\n",
       "  </thead>\n",
       "  <tbody>\n",
       "    <tr>\n",
       "      <th>0</th>\n",
       "      <td>Afghanistan</td>\n",
       "      <td>0.03</td>\n",
       "      <td>NaN</td>\n",
       "      <td>6.684385</td>\n",
       "      <td>55.700001</td>\n",
       "      <td>24.04</td>\n",
       "    </tr>\n",
       "    <tr>\n",
       "      <th>1</th>\n",
       "      <td>Albania</td>\n",
       "      <td>7.29</td>\n",
       "      <td>1914.996551</td>\n",
       "      <td>7.699330</td>\n",
       "      <td>51.400002</td>\n",
       "      <td>46.72</td>\n",
       "    </tr>\n",
       "    <tr>\n",
       "      <th>2</th>\n",
       "      <td>Algeria</td>\n",
       "      <td>0.69</td>\n",
       "      <td>2231.993335</td>\n",
       "      <td>4.848770</td>\n",
       "      <td>50.500000</td>\n",
       "      <td>65.22</td>\n",
       "    </tr>\n",
       "    <tr>\n",
       "      <th>3</th>\n",
       "      <td>Andorra</td>\n",
       "      <td>10.17</td>\n",
       "      <td>21943.339900</td>\n",
       "      <td>5.362179</td>\n",
       "      <td>NaN</td>\n",
       "      <td>88.92</td>\n",
       "    </tr>\n",
       "    <tr>\n",
       "      <th>4</th>\n",
       "      <td>Angola</td>\n",
       "      <td>5.57</td>\n",
       "      <td>1381.004268</td>\n",
       "      <td>14.554677</td>\n",
       "      <td>75.699997</td>\n",
       "      <td>56.70</td>\n",
       "    </tr>\n",
       "  </tbody>\n",
       "</table>\n",
       "</div>"
      ],
      "text/plain": [
       "       country  alcconsumption  ...  employrate  urbanrate\n",
       "0  Afghanistan            0.03  ...   55.700001      24.04\n",
       "1      Albania            7.29  ...   51.400002      46.72\n",
       "2      Algeria            0.69  ...   50.500000      65.22\n",
       "3      Andorra           10.17  ...         NaN      88.92\n",
       "4       Angola            5.57  ...   75.699997      56.70\n",
       "\n",
       "[5 rows x 6 columns]"
      ]
     },
     "execution_count": 4,
     "metadata": {},
     "output_type": "execute_result"
    }
   ],
   "source": [
    "df.info()\n",
    "df.head()"
   ]
  },
  {
   "cell_type": "markdown",
   "metadata": {
    "id": "3tAySCaFWXKQ"
   },
   "source": [
    "Cleaning up the data and removing the nulls"
   ]
  },
  {
   "cell_type": "code",
   "execution_count": 5,
   "metadata": {
    "executionInfo": {
     "elapsed": 23,
     "status": "ok",
     "timestamp": 1638665253249,
     "user": {
      "displayName": "Em D",
      "photoUrl": "https://lh3.googleusercontent.com/a/default-user=s64",
      "userId": "07127211814811907943"
     },
     "user_tz": 480
    },
    "id": "L1C9sFmtBXnS"
   },
   "outputs": [],
   "source": [
    "cleaned_df = df.dropna()"
   ]
  },
  {
   "cell_type": "code",
   "execution_count": 6,
   "metadata": {
    "colab": {
     "base_uri": "https://localhost:8080/"
    },
    "executionInfo": {
     "elapsed": 4,
     "status": "ok",
     "timestamp": 1638665255418,
     "user": {
      "displayName": "Em D",
      "photoUrl": "https://lh3.googleusercontent.com/a/default-user=s64",
      "userId": "07127211814811907943"
     },
     "user_tz": 480
    },
    "id": "OgS0daUMCAuZ",
    "outputId": "b47e8246-06e2-4d91-e34a-83440d9897ee"
   },
   "outputs": [
    {
     "name": "stdout",
     "output_type": "stream",
     "text": [
      "<class 'pandas.core.frame.DataFrame'>\n",
      "Int64Index: 162 entries, 1 to 212\n",
      "Data columns (total 6 columns):\n",
      " #   Column           Non-Null Count  Dtype  \n",
      "---  ------           --------------  -----  \n",
      " 0   country          162 non-null    object \n",
      " 1   alcconsumption   162 non-null    float64\n",
      " 2   incomeperperson  162 non-null    float64\n",
      " 3   suicideper100th  162 non-null    float64\n",
      " 4   employrate       162 non-null    float64\n",
      " 5   urbanrate        162 non-null    float64\n",
      "dtypes: float64(5), object(1)\n",
      "memory usage: 8.9+ KB\n"
     ]
    }
   ],
   "source": [
    "cleaned_df.info()"
   ]
  },
  {
   "cell_type": "markdown",
   "metadata": {
    "id": "JHHElz6JWdJV"
   },
   "source": [
    "Creating 2 groups: countries with high alcohol consumption rates vs. countries with low alcohol consumption rates"
   ]
  },
  {
   "cell_type": "code",
   "execution_count": 7,
   "metadata": {
    "executionInfo": {
     "elapsed": 12,
     "status": "ok",
     "timestamp": 1638665256030,
     "user": {
      "displayName": "Em D",
      "photoUrl": "https://lh3.googleusercontent.com/a/default-user=s64",
      "userId": "07127211814811907943"
     },
     "user_tz": 480
    },
    "id": "0twWA1bNCCEF"
   },
   "outputs": [],
   "source": [
    "cleaned_df_high = cleaned_df[(cleaned_df['alcconsumption'] >= 6.0)]\n",
    "cleaned_df_low = cleaned_df[(cleaned_df['alcconsumption'] < 6.0)]"
   ]
  },
  {
   "cell_type": "code",
   "execution_count": 8,
   "metadata": {
    "colab": {
     "base_uri": "https://localhost:8080/"
    },
    "executionInfo": {
     "elapsed": 8,
     "status": "ok",
     "timestamp": 1638665256644,
     "user": {
      "displayName": "Em D",
      "photoUrl": "https://lh3.googleusercontent.com/a/default-user=s64",
      "userId": "07127211814811907943"
     },
     "user_tz": 480
    },
    "id": "zcV9Oy87C3Eb",
    "outputId": "f652480e-b4d8-4821-fe4a-d1de7203c841"
   },
   "outputs": [
    {
     "name": "stdout",
     "output_type": "stream",
     "text": [
      "<class 'pandas.core.frame.DataFrame'>\n",
      "Int64Index: 82 entries, 1 to 207\n",
      "Data columns (total 6 columns):\n",
      " #   Column           Non-Null Count  Dtype  \n",
      "---  ------           --------------  -----  \n",
      " 0   country          82 non-null     object \n",
      " 1   alcconsumption   82 non-null     float64\n",
      " 2   incomeperperson  82 non-null     float64\n",
      " 3   suicideper100th  82 non-null     float64\n",
      " 4   employrate       82 non-null     float64\n",
      " 5   urbanrate        82 non-null     float64\n",
      "dtypes: float64(5), object(1)\n",
      "memory usage: 4.5+ KB\n",
      "<class 'pandas.core.frame.DataFrame'>\n",
      "Int64Index: 80 entries, 2 to 212\n",
      "Data columns (total 6 columns):\n",
      " #   Column           Non-Null Count  Dtype  \n",
      "---  ------           --------------  -----  \n",
      " 0   country          80 non-null     object \n",
      " 1   alcconsumption   80 non-null     float64\n",
      " 2   incomeperperson  80 non-null     float64\n",
      " 3   suicideper100th  80 non-null     float64\n",
      " 4   employrate       80 non-null     float64\n",
      " 5   urbanrate        80 non-null     float64\n",
      "dtypes: float64(5), object(1)\n",
      "memory usage: 4.4+ KB\n"
     ]
    }
   ],
   "source": [
    "\n",
    "cleaned_df_high.info()\n",
    "cleaned_df_low.info()"
   ]
  },
  {
   "cell_type": "markdown",
   "metadata": {
    "id": "_Plfo0UXWmnq"
   },
   "source": [
    "\n",
    "Histogram plot to see if the data is relatively normal: the histogram illustrates the suicide rates between the 2 groups"
   ]
  },
  {
   "cell_type": "code",
   "execution_count": 9,
   "metadata": {
    "colab": {
     "base_uri": "https://localhost:8080/",
     "height": 265
    },
    "executionInfo": {
     "elapsed": 255,
     "status": "ok",
     "timestamp": 1638665262713,
     "user": {
      "displayName": "Em D",
      "photoUrl": "https://lh3.googleusercontent.com/a/default-user=s64",
      "userId": "07127211814811907943"
     },
     "user_tz": 480
    },
    "id": "PvPiAXvkC7b2",
    "outputId": "06554322-1b53-4062-8bac-498601d73cdc"
   },
   "outputs": [
    {
     "data": {
      "image/png": "[encoded data removed]",
      "text/plain": [
       "<Figure size 432x288 with 1 Axes>"
      ]
     },
     "metadata": {
      "needs_background": "light"
     },
     "output_type": "display_data"
    }
   ],
   "source": [
    "plt.hist(cleaned_df_high['suicideper100th'],alpha = .5, label = 'high alc con')\n",
    "plt.hist(cleaned_df_low['suicideper100th'], alpha =.5, label = 'low alc con')\n",
    "plt.legend(loc='upper right')\n",
    "plt.show()"
   ]
  },
  {
   "cell_type": "markdown",
   "metadata": {
    "id": "pyWLw8jvWr4L"
   },
   "source": [
    "Making sure skewness and kurtosis is within the -3 to 3 normality range"
   ]
  },
  {
   "cell_type": "code",
   "execution_count": 10,
   "metadata": {
    "colab": {
     "base_uri": "https://localhost:8080/"
    },
    "executionInfo": {
     "elapsed": 228,
     "status": "ok",
     "timestamp": 1638665264593,
     "user": {
      "displayName": "Em D",
      "photoUrl": "https://lh3.googleusercontent.com/a/default-user=s64",
      "userId": "07127211814811907943"
     },
     "user_tz": 480
    },
    "id": "sskk-MFSHWyu",
    "outputId": "4ca34c84-73da-4c2d-ff74-3d6cd12af676"
   },
   "outputs": [
    {
     "name": "stdout",
     "output_type": "stream",
     "text": [
      "DescribeResult(nobs=82, minmax=(1.380964637, 35.75287247), mean=11.62290888880488, variance=51.59719109843334, skewness=1.0799413869658518, kurtosis=1.284347994726832)\n",
      "DescribeResult(nobs=80, minmax=(0.201448724, 28.10404587), mean=8.18418310705, variance=22.702927053004373, skewness=1.0399367475344763, kurtosis=2.413561870368115)\n"
     ]
    }
   ],
   "source": [
    "print(stats.describe(cleaned_df_high['suicideper100th']))\n",
    "print(stats.describe(cleaned_df_low['suicideper100th']))"
   ]
  },
  {
   "cell_type": "markdown",
   "metadata": {
    "id": "6J0X8CNVW0iQ"
   },
   "source": [
    "T-test to see the p-value: the p-value (0.0004) being less than 0.05 suggests that the test is significant.\n"
   ]
  },
  {
   "cell_type": "code",
   "execution_count": 11,
   "metadata": {
    "colab": {
     "base_uri": "https://localhost:8080/"
    },
    "executionInfo": {
     "elapsed": 567,
     "status": "ok",
     "timestamp": 1638665266880,
     "user": {
      "displayName": "Em D",
      "photoUrl": "https://lh3.googleusercontent.com/a/default-user=s64",
      "userId": "07127211814811907943"
     },
     "user_tz": 480
    },
    "id": "FY3xJ8bqIiJc",
    "outputId": "2b53a4e2-dfa0-4ba4-f6d2-d1bf7baf8e17"
   },
   "outputs": [
    {
     "data": {
      "text/plain": [
       "Ttest_indResult(statistic=3.5814524666630243, pvalue=0.0004528779124144889)"
      ]
     },
     "execution_count": 11,
     "metadata": {},
     "output_type": "execute_result"
    }
   ],
   "source": [
    "stats.ttest_ind(cleaned_df_high['suicideper100th'], cleaned_df_low['suicideper100th'])"
   ]
  },
  {
   "cell_type": "markdown",
   "metadata": {
    "id": "dwKKbU_ncXM0"
   },
   "source": [
    "With 95% confidence countries with lower alcohol consumption rates have 5.3 and 1.6 less suicide rates per 100th than countries with higher alcohol consumption rates"
   ]
  },
  {
   "cell_type": "code",
   "execution_count": 12,
   "metadata": {
    "colab": {
     "base_uri": "https://localhost:8080/",
     "height": 35
    },
    "executionInfo": {
     "elapsed": 57,
     "status": "ok",
     "timestamp": 1638665268257,
     "user": {
      "displayName": "Em D",
      "photoUrl": "https://lh3.googleusercontent.com/a/default-user=s64",
      "userId": "07127211814811907943"
     },
     "user_tz": 480
    },
    "id": "tC2XDXfsYo-U",
    "outputId": "6c76e153-966c-4915-b230-a3232d19d32b"
   },
   "outputs": [
    {
     "data": {
      "application/vnd.google.colaboratory.intrinsic+json": {
       "type": "string"
      },
      "text/plain": [
       "'The difference in means at the 95% confidence interval (two-tail) is between -5.3115471925260955 and -1.5659043709836598.'"
      ]
     },
     "execution_count": 12,
     "metadata": {},
     "output_type": "execute_result"
    }
   ],
   "source": [
    "def get_95_ci(array_1, array_2):\n",
    "    sample_1_n = array_1.shape[0]\n",
    "    sample_2_n = array_2.shape[0]\n",
    "    sample_1_mean = array_1.mean()\n",
    "    sample_2_mean = array_2.mean()\n",
    "    sample_1_var = array_1.var()\n",
    "    sample_2_var = array_2.var()\n",
    "    mean_difference = sample_2_mean - sample_1_mean\n",
    "    std_err_difference = math.sqrt((sample_1_var/sample_1_n)+(sample_2_var/sample_2_n))\n",
    "    margin_of_error = 1.96 * std_err_difference\n",
    "    ci_lower = mean_difference - margin_of_error\n",
    "    ci_upper = mean_difference + margin_of_error\n",
    "    return(\"The difference in means at the 95% confidence interval (two-tail) is between \"+str(ci_lower)+\" and \"+str(ci_upper)+\".\")\n",
    "\n",
    "get_95_ci(cleaned_df_high['suicideper100th'], cleaned_df_low['suicideper100th'])"
   ]
  },
  {
   "cell_type": "markdown",
   "metadata": {
    "id": "YOQ0kCx8agQY"
   },
   "source": [
    "With the pointplot graph we can see that suicide rates is significantly higher for countries with higher alcohol consumption rates than lower alcohol consumption rates."
   ]
  },
  {
   "cell_type": "code",
   "execution_count": 13,
   "metadata": {
    "colab": {
     "base_uri": "https://localhost:8080/",
     "height": 283
    },
    "executionInfo": {
     "elapsed": 271,
     "status": "ok",
     "timestamp": 1638665269791,
     "user": {
      "displayName": "Em D",
      "photoUrl": "https://lh3.googleusercontent.com/a/default-user=s64",
      "userId": "07127211814811907943"
     },
     "user_tz": 480
    },
    "id": "OZJmh_enZF58",
    "outputId": "d96afb15-7dc8-44cc-e927-bb757146ce07"
   },
   "outputs": [
    {
     "data": {
      "text/plain": [
       "[[Text(0, 0, 'high_alc_con'), Text(0, 0, 'low_alc_con')]]"
      ]
     },
     "execution_count": 13,
     "metadata": {},
     "output_type": "execute_result"
    },
    {
     "data": {
      "image/png": "[encoded data removed]",
      "text/plain": [
       "<Figure size 432x288 with 1 Axes>"
      ]
     },
     "metadata": {
      "needs_background": "light"
     },
     "output_type": "display_data"
    }
   ],
   "source": [
    "import seaborn as sns\n",
    "\n",
    "g = sns.pointplot(data=[cleaned_df_high['suicideper100th'],\n",
    "                        cleaned_df_low['suicideper100th']], join=False)\n",
    "                        \n",
    "g.set(xticklabels = ['high_alc_con', 'low_alc_con'])"
   ]
  },
  {
   "cell_type": "markdown",
   "metadata": {
    "id": "UHbi-8kqfK26"
   },
   "source": [
    "The data indicates that there is a significance in high alcohol consumption and suicide rates. This essentially brings awareness to mental health and self-medicative remedies. Users should be more mindful of what sources they use in self-medication and try to seek actual help rather than trying to fix themselves. "
   ]
  },
  {
   "cell_type": "code",
   "execution_count": null,
   "metadata": {
    "id": "KtdILPzBEINu"
   },
   "outputs": [],
   "source": []
  }
 ],
 "metadata": {
  "colab": {
   "authorship_tag": "ABX9TyOUAgiliWXiYlI3XNEVPu2V",
   "mount_file_id": "1tOXVTXt5826_L4ScBlpsyOhgtqCJGTtP",
   "name": "Research Proposal.ipynb",
   "provenance": []
  },
  "kernelspec": {
   "display_name": "Python 3 (ipykernel)",
   "language": "python",
   "name": "python3"
  },
  "language_info": {
   "codemirror_mode": {
    "name": "ipython",
    "version": 3
   },
   "file_extension": ".py",
   "mimetype": "text/x-python",
   "name": "python",
   "nbconvert_exporter": "python",
   "pygments_lexer": "ipython3",
   "version": "3.9.5"
  }
 },
 "nbformat": 4,
 "nbformat_minor": 1
}
